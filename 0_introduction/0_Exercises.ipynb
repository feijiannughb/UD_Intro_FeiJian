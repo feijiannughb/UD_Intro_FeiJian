{
 "cells": [
  {
   "cell_type": "markdown",
   "id": "529d91ae",
   "metadata": {},
   "source": [
    "# Exercise 00\n",
    "Write a bit of code that prints _Introduction to Programming_ to the console and execute the cell"
   ]
  },
  {
   "cell_type": "code",
   "execution_count": 1,
   "id": "98711beb",
   "metadata": {},
   "outputs": [
    {
     "name": "stdout",
     "output_type": "stream",
     "text": [
      "Introduction to Programming\n"
     ]
    }
   ],
   "source": [
    "print(\"Introduction to Programming\")"
   ]
  },
  {
   "cell_type": "markdown",
   "id": "63ad5023",
   "metadata": {},
   "source": [
    "-----------------------------------------------------------------------------\n",
    "# Exercise 01\n",
    "Hello World is traditionally the first program anyone writes. It is\n",
    "very simple and the only thing it should do is print Hello World! to the\n",
    "terminal window.\n",
    "Create a file called HelloWorld.py and edit the contents so it prints Hello World! to the terminal and execute it using the command line."
   ]
  },
  {
   "cell_type": "markdown",
   "id": "a4a7c4c2",
   "metadata": {},
   "source": [
    "-----------------------------------------------------------------------------\n",
    "# Exercise 02\n",
    "Write some code to print your name, email, and age on separate lines. For each element first assign it to a variable and use the variable to print. \n",
    "\n",
    "Bonus: try to create the print statement for all variable in one line of code. (hint: '\\n' is the character for a new line)"
   ]
  },
  {
   "cell_type": "code",
   "execution_count": 22,
   "id": "fc8fface",
   "metadata": {},
   "outputs": [
    {
     "name": "stdout",
     "output_type": "stream",
     "text": [
      "Name: Fei Jian\n",
      "Email: feijian.23@ucl.ac.uk\n",
      "Age: 22\n",
      "Name: Fei Jian Email: feijian.23@ucl.ac.uk Age: 22\n"
     ]
    }
   ],
   "source": [
    "print(\"Name:\", name)\n",
    "print(\"Email:\", email)\n",
    "print(\"Age:\", age)\n",
    "\n",
    "print(f\"Name: {name}\", end=' ' )\n",
    "print(f\"Email: {email}\", end=' ')\n",
    "print(f\"Age: {age}\",)"
   ]
  },
  {
   "cell_type": "markdown",
   "id": "0dd1c1d1",
   "metadata": {},
   "source": [
    "-----------------------------------------------------------------------------\n",
    "# Exercise 03\n",
    "Print the numbers 0, 178, -21, 2938 divided by 49, 436 multiplied with 9948 and 12 to the power of 20\n",
    "\n",
    "(Hint: Look up the documentation of basic arithmetic operators)"
   ]
  },
  {
   "cell_type": "code",
   "execution_count": 18,
   "id": "f3d5d009",
   "metadata": {},
   "outputs": [
    {
     "name": "stdout",
     "output_type": "stream",
     "text": [
      "0 178 -21 59.95918367346939 4337328 3833759992447475122176\n"
     ]
    }
   ],
   "source": [
    "print(0,178,-21,2938/49,436*9948,12**20)"
   ]
  },
  {
   "cell_type": "markdown",
   "id": "1f151455",
   "metadata": {},
   "source": [
    "-----------------------------------------------------------------------------\n",
    "# Exercise 04\n",
    "Print sin(200), cos(100), tan($\\pi$/4)\n",
    "\n",
    "(Hint: Look up for how to use trigonometric function, and how to get the value of $\\pi$.)"
   ]
  },
  {
   "cell_type": "code",
   "execution_count": 1,
   "id": "d0e37690",
   "metadata": {},
   "outputs": [
    {
     "name": "stdout",
     "output_type": "stream",
     "text": [
      "sin(200)=-0.34202014332566866\n",
      "cos(100)=-0.1736481776669303\n",
      "tan(π/4)=0.013708642534394057\n"
     ]
    }
   ],
   "source": [
    "import math\n",
    "sin_200=math.sin(math.radians(200))\n",
    "cos_100=math.cos(math.radians(100))\n",
    "tan_pi_over_4=math.tan(math.radians(math.pi/4))\n",
    "\n",
    "print(f\"sin(200)={sin_200}\")\n",
    "print(f\"cos(100)={cos_100}\")\n",
    "print(f\"tan(π/4)={tan_pi_over_4}\")"
   ]
  },
  {
   "cell_type": "markdown",
   "id": "9d026820",
   "metadata": {},
   "source": [
    "-----------------------------------------------------------------------------\n",
    "# Exercise 05\n",
    "Write a program to read your first and last names from the console seperately, and then print them on the console together, separated by a space."
   ]
  },
  {
   "cell_type": "code",
   "execution_count": null,
   "id": "4c7217e0",
   "metadata": {},
   "outputs": [],
   "source": [
    "full_name=input(\"Fei Jian:\")\n",
    "print(\"Fei Jian:\",full_name)\n"
   ]
  },
  {
   "cell_type": "markdown",
   "id": "e83fa346",
   "metadata": {},
   "source": [
    "-----------------------------------------------------------------------------\n",
    "# Exercise 06\n",
    "Write a program that determines whether a number given as user input is positive or negative\n",
    " \n",
    "You will need to convert the console input from a string to a number first!"
   ]
  },
  {
   "cell_type": "code",
   "execution_count": 2,
   "id": "ecd924c2",
   "metadata": {},
   "outputs": [
    {
     "name": "stdout",
     "output_type": "stream",
     "text": [
      "Please enter a number: 9\n",
      "The number is positive.\n"
     ]
    }
   ],
   "source": [
    "user_input = input(\"Please enter a number: \")\n",
    "number = float(user_input)\n",
    "if number > 0:\n",
    "    print(\"The number is positive.\")\n",
    "elif number < 0:\n",
    "    print(\"The number is negative.\")\n",
    "else:\n",
    "    print(\"The number is zero.\")"
   ]
  },
  {
   "cell_type": "markdown",
   "id": "2a192596",
   "metadata": {},
   "source": [
    "-----------------------------------------------------------------------------\n",
    "# Exercise 07\n",
    "Write a program that picks a random number between 1-20 and makes the user guess until they get the number right. Then print a congratulations message\n",
    "- (Find out yourself how to generate a random integer)\n",
    "- Bonus: make the user choose the range within which they have to guess\n",
    "- Bonus: keep track of how many guesses were made and print this at the end"
   ]
  },
  {
   "cell_type": "code",
   "execution_count": 3,
   "id": "70358dd3",
   "metadata": {},
   "outputs": [
    {
     "name": "stdout",
     "output_type": "stream",
     "text": [
      "Enter the minimum value of the range: 70\n",
      "Enter the maximum value of the range: 777\n",
      "Guess the number (70-777): 700\n",
      "Too high. Try again.\n",
      "Guess the number (70-777): 77\n",
      "Too low. Try again.\n",
      "Guess the number (70-777): 350\n",
      "Too low. Try again.\n",
      "Guess the number (70-777): 600\n",
      "Too high. Try again.\n",
      "Guess the number (70-777): 500\n",
      "Too low. Try again.\n",
      "Guess the number (70-777): 550\n",
      "Too low. Try again.\n",
      "Guess the number (70-777): 599\n",
      "Too high. Try again.\n",
      "Guess the number (70-777): 580\n",
      "Too low. Try again.\n",
      "Guess the number (70-777): 588\n",
      "Too high. Try again.\n",
      "Guess the number (70-777): 585\n",
      "Too high. Try again.\n",
      "Guess the number (70-777): 583\n",
      "Congratulations! You've guessed the number 583!\n",
      "You took 11 guesses.\n"
     ]
    }
   ],
   "source": [
    "import random\n",
    "\n",
    "def guess_number():\n",
    "    \n",
    "    min_range = int(input(\"Enter the minimum value of the range: \"))\n",
    "    max_range = int(input(\"Enter the maximum value of the range: \"))\n",
    "    \n",
    "    \n",
    "    target_number = random.randint(min_range, max_range)\n",
    "    \n",
    "   \n",
    "    guesses = 0\n",
    "    \n",
    "    while True:\n",
    "        user_guess = int(input(f\"Guess the number ({min_range}-{max_range}): \"))\n",
    "        guesses += 1\n",
    "        \n",
    "        if user_guess == target_number:\n",
    "            print(f\"Congratulations! You've guessed the number {target_number}!\")\n",
    "            print(f\"You took {guesses} guesses.\")\n",
    "            break\n",
    "        elif user_guess < target_number:\n",
    "            print(\"Too low. Try again.\")\n",
    "        else:\n",
    "            print(\"Too high. Try again.\")\n",
    "\n",
    "\n",
    "guess_number()"
   ]
  },
  {
   "cell_type": "markdown",
   "id": "d53b9c07",
   "metadata": {},
   "source": [
    "-----------------------------------------------------------------------------\n",
    "# Exercise 08\n",
    "Ask a sentence as input, then print the words in alphabetical order.\n",
    "Hint: look up how to split up a string"
   ]
  },
  {
   "cell_type": "code",
   "execution_count": 2,
   "id": "b6524cf5",
   "metadata": {},
   "outputs": [
    {
     "name": "stdout",
     "output_type": "stream",
     "text": [
      "Please enter a sentence: Fei so tired\n",
      "Words in alphabetical order:\n",
      "Fei\n",
      "so\n",
      "tired\n"
     ]
    }
   ],
   "source": [
    "sentence = input(\"Please enter a sentence: \")\n",
    "words = sentence.split()\n",
    "sorted_words = sorted(words)\n",
    "print(\"Words in alphabetical order:\")\n",
    "for word in sorted_words:\n",
    "    print(word)\n"
   ]
  },
  {
   "cell_type": "markdown",
   "id": "09a7b060",
   "metadata": {},
   "source": [
    "-----------------------------------------------------------------------------\n",
    "# Exercise 09\n",
    "Write a program using for loops to print a christmas tree of x lines high\n",
    "specified by the user.\n",
    "(use for loops)\n",
    "so for instance, a chrismas tree of 4 high should looks like this:\n",
    "\n",
    "```\n",
    "\n",
    "    *\n",
    "   ***\n",
    "  *****\n",
    " *******\n",
    "    |\n",
    "\n",
    "```\n",
    "\n",
    "hint: first combine strings into a variable before printing"
   ]
  },
  {
   "cell_type": "code",
   "execution_count": 4,
   "id": "5150f7a4",
   "metadata": {},
   "outputs": [
    {
     "name": "stdout",
     "output_type": "stream",
     "text": [
      "Enter the height of the Christmas tree: 5\n",
      "    *\n",
      "   ***\n",
      "  *****\n",
      " *******\n",
      "*********\n",
      "    |\n"
     ]
    }
   ],
   "source": [
    "# Get user input for the height of the tree\n",
    "tree_height = int(input(\"Enter the height of the Christmas tree: \"))\n",
    "\n",
    "# Print the tree\n",
    "for i in range(tree_height):\n",
    "    print(' ' * (tree_height - i - 1) + '*' * (2 * i + 1))\n",
    "\n",
    "# Print the tree trunk\n",
    "print(' ' * (tree_height - 1) + '|')"
   ]
  },
  {
   "cell_type": "markdown",
   "id": "07f67531",
   "metadata": {},
   "source": [
    "-----------------------------------------------------------------------------\n",
    "# Exercise 10\n",
    "Write a piece of code that prints the first $n$ numbers of the padovan sequence"
   ]
  },
  {
   "cell_type": "code",
   "execution_count": null,
   "id": "d301c61b",
   "metadata": {},
   "outputs": [],
   "source": []
  }
 ],
 "metadata": {
  "kernelspec": {
   "display_name": "Python 3 (ipykernel)",
   "language": "python",
   "name": "python3"
  },
  "language_info": {
   "codemirror_mode": {
    "name": "ipython",
    "version": 3
   },
   "file_extension": ".py",
   "mimetype": "text/x-python",
   "name": "python",
   "nbconvert_exporter": "python",
   "pygments_lexer": "ipython3",
   "version": "3.11.5"
  }
 },
 "nbformat": 4,
 "nbformat_minor": 5
}
